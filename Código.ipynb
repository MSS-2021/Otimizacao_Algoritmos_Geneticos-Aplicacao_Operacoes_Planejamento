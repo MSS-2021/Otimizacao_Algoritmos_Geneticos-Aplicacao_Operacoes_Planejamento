{
  "nbformat": 4,
  "nbformat_minor": 0,
  "metadata": {
    "colab": {
      "provenance": []
    },
    "kernelspec": {
      "name": "python3",
      "display_name": "Python 3"
    },
    "language_info": {
      "name": "python"
    }
  },
  "cells": [
    {
      "cell_type": "markdown",
      "source": [
        "Instalação e carregamento das bibliotecas de GA em python"
      ],
      "metadata": {
        "id": "dnsBkaRj-daj"
      }
    },
    {
      "cell_type": "code",
      "execution_count": 86,
      "metadata": {
        "colab": {
          "base_uri": "https://localhost:8080/"
        },
        "id": "lYGaWT8k-Xq1",
        "outputId": "ba19eb70-3372-4931-baae-5cc6e8263864"
      },
      "outputs": [
        {
          "output_type": "stream",
          "name": "stdout",
          "text": [
            "Requirement already satisfied: deap in /usr/local/lib/python3.11/dist-packages (1.4.3)\n",
            "Requirement already satisfied: numpy in /usr/local/lib/python3.11/dist-packages (from deap) (2.0.2)\n"
          ]
        }
      ],
      "source": [
        "!pip install deap"
      ]
    },
    {
      "cell_type": "markdown",
      "source": [
        "Instalação e carregamento das demais bibliotecas"
      ],
      "metadata": {
        "id": "BJtR3nP2FUu-"
      }
    },
    {
      "cell_type": "code",
      "source": [
        "import random\n",
        "import math\n",
        "import locale\n",
        "import openpyxl\n",
        "import numpy as np\n",
        "import pandas as pd\n",
        "import matplotlib.pyplot as plt\n",
        "\n",
        "from deap import base, creator, tools, algorithms\n",
        "from openpyxl.utils.exceptions import InvalidFileException\n",
        "from datetime import datetime"
      ],
      "metadata": {
        "id": "QSK0huST-mbg"
      },
      "execution_count": 87,
      "outputs": []
    },
    {
      "cell_type": "code",
      "source": [
        "# Ler os arquivos Excel\n",
        "df_projetos = pd.read_excel('Info_projetos_v0.xlsx')\n",
        "df_contratos = pd.read_excel('Info_contratos_v0.xlsx')\n",
        "df_distancias = pd.read_excel('Info_distancias_v0.xlsx')"
      ],
      "metadata": {
        "id": "gVXhendEWdU3"
      },
      "execution_count": 88,
      "outputs": []
    },
    {
      "cell_type": "code",
      "source": [
        "# Visualização dos DataFrames\n",
        "print(df_projetos.head(10))"
      ],
      "metadata": {
        "colab": {
          "base_uri": "https://localhost:8080/"
        },
        "id": "_8gvDN3PEkat",
        "outputId": "3c85cc27-3ad8-4e09-d265-a8be5f31d0eb"
      },
      "execution_count": 89,
      "outputs": [
        {
          "output_type": "stream",
          "name": "stdout",
          "text": [
            "  Projeto Tipo operação Tipo de linha Categoria linha  UEP Data prevista  \\\n",
            "0  Poço 1      carregam          T1_P              T1  P-1    2026-01-01   \n",
            "1  Poço 1      carregam            T2              T2  P-1    2025-11-11   \n",
            "2  Poço 2      carregam         T1_I1              T1  P-2    2025-12-30   \n",
            "3  Poço 3      carregam          T1_G              T1  P-3    2025-07-27   \n",
            "4  Poço 3      carregam          T1_P              T1  P-3    2026-02-16   \n",
            "5  Poço 4   descarregam            T2              T2  P-4    2025-08-17   \n",
            "6  Poço 5      carregam         T1_I1              T1  P-5    2025-07-20   \n",
            "7  Poço 5      carregam            T2              T2  P-5    2025-08-08   \n",
            "8  Poço 6      carregam          T1_P              T1  P-6    2026-05-07   \n",
            "9  Poço 6      carregam            T2              T2  P-6    2026-03-19   \n",
            "\n",
            "   Número de tramos Contrato bens Contrato log  \n",
            "0                 8            C1           L1  \n",
            "1                 2            C4           L4  \n",
            "2                 3            C2            x  \n",
            "3                 7            C5           L5  \n",
            "4                 1            C8           L8  \n",
            "5                 1             x            x  \n",
            "6                 2            C2            x  \n",
            "7                 2            C6           L6  \n",
            "8                 4            C1           L1  \n",
            "9                 2            C6           L6  \n"
          ]
        }
      ]
    },
    {
      "cell_type": "code",
      "source": [
        "# Visualização dos DataFrames\n",
        "print(df_contratos.head(10))"
      ],
      "metadata": {
        "colab": {
          "base_uri": "https://localhost:8080/"
        },
        "id": "DyO1o6caEkP8",
        "outputId": "2919097c-682c-436f-ff21-499f26c01acc"
      },
      "execution_count": 90,
      "outputs": [
        {
          "output_type": "stream",
          "name": "stdout",
          "text": [
            "  Contrato bens Contrato log Fornec Custo entrega B1 Custo entrega B2  \\\n",
            "0            C1           L1     F1            50000            75000   \n",
            "1            C2            x     F2                x                x   \n",
            "2            C3           L3     F1            37000            48000   \n",
            "3            C4           L4     F6           337000           300000   \n",
            "4            C5           L5     F2            18000            34000   \n",
            "5            C6           L6     F4           125000           121000   \n",
            "6            C7           L7     F3            17000            36000   \n",
            "7            C8           L8     F1            31000            39000   \n",
            "8            C9           L9     F2            20500            32000   \n",
            "9           C10          L10     F5           237500           247200   \n",
            "\n",
            "  Custo diaria carreg Categoria linha  \n",
            "0               94708              T1  \n",
            "1                   x              T1  \n",
            "2               89132              T1  \n",
            "3                   x              T2  \n",
            "4               84609              T1  \n",
            "5                   x              T2  \n",
            "6               71743              T1  \n",
            "7              140523              T1  \n",
            "8              118179              T1  \n",
            "9                   x              T2  \n"
          ]
        }
      ]
    },
    {
      "cell_type": "code",
      "source": [
        "# Visualização dos DataFrames\n",
        "print(df_distancias.head(10))"
      ],
      "metadata": {
        "colab": {
          "base_uri": "https://localhost:8080/"
        },
        "id": "AZKmzAOyYONx",
        "outputId": "744e8cd7-64c2-40c4-d986-532a304850cf"
      },
      "execution_count": 91,
      "outputs": [
        {
          "output_type": "stream",
          "name": "stdout",
          "text": [
            "    UEP  Dist_B1_mn  Dist_B2_mn  Dist_F1_mn  Dist_F2_mn  Dist_F3_mn\n",
            "0   P-1          98         130         308          99          99\n",
            "1   P-2         240         340         156         241         241\n",
            "2   P-3         252         342         162         253         253\n",
            "3   P-4          60         110         264          61          61\n",
            "4   P-5         102         136         284         103         103\n",
            "5   P-6         232         331         144         233         233\n",
            "6   P-7          93         122         318          94          94\n",
            "7   P-8         112         143         239         113         113\n",
            "8   P-9          65         122         213          66          66\n",
            "9  P-10         247         349         165         248         248\n"
          ]
        }
      ]
    },
    {
      "cell_type": "code",
      "source": [
        "# Função para cálculo dos custos referentes a suprimento:\n",
        "# Considera os custos referentes a entrega nas bases próprias e carregamento nos fornecedores\n",
        "\n",
        "def calcular_custo_suprim(df_projetos, df_contratos):\n",
        "    \"\"\"\n",
        "    Adiciona quatro colunas calculadas ao df_projetos conforme especificações\n",
        "\n",
        "    Parâmetros:\n",
        "    df_projetos: DataFrame com dados dos projetos\n",
        "    df_contratos: DataFrame com dados dos contratos\n",
        "\n",
        "    Retorna:\n",
        "    DataFrame df_projetos com as quatro novas colunas adicionadas\n",
        "    \"\"\"\n",
        "    #Referências para cácludo da duração dos tempos de carregamento:\n",
        "    t0 = 0.4 # parâmetro tempo fixo carregamento ou descarregamento\n",
        "    x1 = 0.83 # parâmetro tempo variável carregamento T1, por tramo\n",
        "    x2 = 1.57 # parâmetro tempo variável carregamento T2, por tramo\n",
        "    y1 = 0.66 # parâmetro tempo variável descarregamento T1, por tramo\n",
        "    y2 = 0.95 # parâmetro tempo variável descarregamento T2, por tramo\n",
        "\n",
        "    try:\n",
        "        # Verificar colunas necessárias a realização dos cálculos:\n",
        "        required_proj = ['Número de tramos', 'Tipo de linha', 'Tipo operação', 'Contrato log', 'Contrato bens']\n",
        "        required_cont = ['Contrato log', 'Contrato bens', 'Custo entrega B1', 'Custo entrega B2', 'Custo diaria carreg']\n",
        "\n",
        "        for col in required_proj:\n",
        "            if col not in df_projetos.columns:\n",
        "                raise ValueError(f\"Coluna '{col}' não encontrada em df_projetos\")\n",
        "\n",
        "        for col in required_cont:\n",
        "            if col not in df_contratos.columns:\n",
        "                raise ValueError(f\"Coluna '{col}' não encontrada em df_contratos\")\n",
        "\n",
        "        # 1. Calcular 'Tempo carreg - dias', considerando as particularidades dos projetos:\n",
        "        conditions = [\n",
        "            (df_projetos['Tipo de linha'] != 'T2') & (df_projetos['Tipo operação'] == 'carregam'),\n",
        "            (df_projetos['Tipo de linha'] == 'T2') & (df_projetos['Tipo operação'] == 'carregam'),\n",
        "            (df_projetos['Tipo de linha'] != 'T2') & (df_projetos['Tipo operação'] == 'descarregam'),\n",
        "            (df_projetos['Tipo de linha'] == 'T2') & (df_projetos['Tipo operação'] == 'descarregam')\n",
        "        ]\n",
        "\n",
        "        choices = [\n",
        "            df_projetos['Número de tramos'] * x1 + t0,\n",
        "            df_projetos['Número de tramos'] * x2 + t0,\n",
        "            df_projetos['Número de tramos'] * y1 + t0,\n",
        "            df_projetos['Número de tramos'] * y2 + t0\n",
        "        ]\n",
        "\n",
        "        df_projetos['Tempo carreg dias'] = np.select(conditions, choices, default=0)\n",
        "\n",
        "        # Criar dicionários para relacionar contratos aos valores de referência\n",
        "        dict_b1 = df_contratos.set_index('Contrato log')['Custo entrega B1'].to_dict()\n",
        "        dict_b2 = df_contratos.set_index('Contrato log')['Custo entrega B2'].to_dict()\n",
        "        dict_carreg = df_contratos.set_index('Contrato bens')['Custo diaria carreg'].to_dict()\n",
        "\n",
        "        # 2. Calcular 'Custo fornec B1'\n",
        "        # Ajuste dos custos para linhas sem contrato de logística\n",
        "        # Ajuste da referência de coluna para cálculo do custo fornecimento B1\n",
        "        df_projetos['Custo_fornec_B1'] = df_projetos.apply(\n",
        "            lambda row: 0 if row['Tipo operação'] == 'descarregam'\n",
        "            else 0 if (row['Contrato log'] == 'x' and row['Tipo operação'] == 'carregam')\n",
        "            else int(row['Número de tramos'] * dict_b1.get(row['Contrato log'], 0)),\n",
        "            axis=1\n",
        "        ) # Calcula o custo de fornecimento de N tramos, considerando entrega na B1\n",
        "\n",
        "        # 3. Calcular 'Custo fornec B2'\n",
        "        df_projetos['Custo_fornec_B2'] = df_projetos.apply(\n",
        "            lambda row: 0 if row['Tipo operação'] == 'descarregam'\n",
        "            else 0 if (row['Contrato log'] == 'x' and row['Tipo operação'] == 'carregam')\n",
        "            else int(row['Número de tramos'] * dict_b2.get(row['Contrato log'], 0)),\n",
        "            axis=1\n",
        "        ) # Calcula o custo de fornecimento de N tramos, considerando entrega na B2\n",
        "\n",
        "        # 4. Calcular 'Custo carreg fornec' - Custo referente a carregamento nos fornecedores\n",
        "        df_projetos['Custo_carreg_fornec'] = df_projetos.apply(\n",
        "            lambda row: 90000000 if (row['Contrato log'] == 'x' or\n",
        "                                  dict_carreg.get(row['Contrato bens'], 'x') == 'x')\n",
        "            else int(row['Tempo carreg dias'] * dict_carreg.get(row['Contrato bens'], 0)),\n",
        "            axis=1\n",
        "        ) # Calcula o custo de carregamento diretamente nos fornecedores, considerando o tempo calculado acima\n",
        "\n",
        "        #print(\"Colunas adicionadas com sucesso!\")\n",
        "        return df_projetos\n",
        "\n",
        "    except Exception as e:\n",
        "        print(f\"Erro ao calcular colunas: {str(e)}\") # Informa e descreve o erro gerado ao aplicar a função\n",
        "        return df_projetos\n"
      ],
      "metadata": {
        "id": "iWZiYFg3Zhng"
      },
      "execution_count": 147,
      "outputs": []
    },
    {
      "cell_type": "code",
      "source": [
        "# Aplicação da função para cálculo dos custos referentes a suprimento:\n",
        "\n",
        "df_projetos_suprim = calcular_custo_suprim(df_projetos, df_contratos)\n",
        "print(df_projetos_suprim.head(20))"
      ],
      "metadata": {
        "colab": {
          "base_uri": "https://localhost:8080/"
        },
        "id": "9tbA_GeJZjYT",
        "outputId": "dfe01441-1451-44a7-a2c1-b1e3f4427e36"
      },
      "execution_count": 148,
      "outputs": [
        {
          "output_type": "stream",
          "name": "stdout",
          "text": [
            "    Projeto Tipo operação Tipo de linha Categoria linha   UEP Data prevista  \\\n",
            "0    Poço 1      carregam          T1_P              T1   P-1    2026-01-01   \n",
            "1    Poço 1      carregam            T2              T2   P-1    2025-11-11   \n",
            "2    Poço 2      carregam         T1_I1              T1   P-2    2025-12-30   \n",
            "3    Poço 3      carregam          T1_G              T1   P-3    2025-07-27   \n",
            "4    Poço 3      carregam          T1_P              T1   P-3    2026-02-16   \n",
            "5    Poço 4   descarregam            T2              T2   P-4    2025-08-17   \n",
            "6    Poço 5      carregam         T1_I1              T1   P-5    2025-07-20   \n",
            "7    Poço 5      carregam            T2              T2   P-5    2025-08-08   \n",
            "8    Poço 6      carregam          T1_P              T1   P-6    2026-05-07   \n",
            "9    Poço 6      carregam            T2              T2   P-6    2026-03-19   \n",
            "10   Poço 7   descarregam         T1_I1              T1   P-2    2025-11-18   \n",
            "11   Poço 7   descarregam            T2              T2   P-2    2025-08-12   \n",
            "12   Poço 8      carregam          T1_P              T1   P-7    2026-01-09   \n",
            "13   Poço 9      carregam         T1_I2              T1   P-8    2026-01-25   \n",
            "14   Poço 9      carregam         T1_I1              T1   P-8    2026-06-25   \n",
            "15  Poço 10   descarregam          T1_P              T1   P-9    2026-05-14   \n",
            "16  Poço 10   descarregam            T2              T2   P-9    2026-05-05   \n",
            "17  Poço 11      carregam         T1_I2              T1  P-10    2025-10-10   \n",
            "18  Poço 11      carregam            T2              T2  P-10    2025-10-23   \n",
            "19  Poço 12   descarregam         T1_I1              T1  P-11    2026-01-07   \n",
            "\n",
            "    Número de tramos Contrato bens Contrato log  Tempo carreg dias  \\\n",
            "0                  8            C1           L1               7.04   \n",
            "1                  2            C4           L4               3.54   \n",
            "2                  3            C2            x               2.89   \n",
            "3                  7            C5           L5               6.21   \n",
            "4                  1            C8           L8               1.23   \n",
            "5                  1             x            x               1.35   \n",
            "6                  2            C2            x               2.06   \n",
            "7                  2            C6           L6               3.54   \n",
            "8                  4            C1           L1               3.72   \n",
            "9                  2            C6           L6               3.54   \n",
            "10                 5             x            x               3.70   \n",
            "11                 2             x            x               2.30   \n",
            "12                 3            C1           L1               2.89   \n",
            "13                 8            C3           L3               7.04   \n",
            "14                 1            C9           L9               1.23   \n",
            "15                 6             x            x               4.36   \n",
            "16                 1             x            x               1.35   \n",
            "17                 8            C7           L7               7.04   \n",
            "18                 1           C10          L10               1.97   \n",
            "19                 6             x            x               4.36   \n",
            "\n",
            "    Custo_fornec_B1  Custo_fornec_B2  Custo_carreg_fornec  \n",
            "0            400000           600000               666744  \n",
            "1            674000           600000             90000000  \n",
            "2                 0                0             90000000  \n",
            "3            126000           238000               525421  \n",
            "4             31000            39000               172843  \n",
            "5                 0                0             90000000  \n",
            "6                 0                0             90000000  \n",
            "7            250000           242000             90000000  \n",
            "8            200000           300000               352313  \n",
            "9            250000           242000             90000000  \n",
            "10                0                0             90000000  \n",
            "11                0                0             90000000  \n",
            "12           150000           225000               273706  \n",
            "13           296000           384000               627489  \n",
            "14            20500            32000               145360  \n",
            "15                0                0             90000000  \n",
            "16                0                0             90000000  \n",
            "17           136000           288000               505070  \n",
            "18           237500           247200             90000000  \n",
            "19                0                0             90000000  \n"
          ]
        }
      ]
    },
    {
      "cell_type": "code",
      "source": [
        "# Função para cálculo do custo de navegação a partir das bases próprias (BAÇU e BAVIT) e fornecedores:\n",
        "def calcular_custo_naveg(df_projetos, df_distancias, df_contratos):\n",
        "    \"\"\"\n",
        "    Calcula três tipos de custos de navegação, calculados considerando os diferentes pontos de origem\n",
        "    Considera cenários partindo de B1, B2 e fornecedores (F´s)\n",
        "    \"\"\"\n",
        "    # Custo do diesel:\n",
        "    '''Valor (em reais) referente ao consumo diário de diesel na navegação:\n",
        "        Referências:\n",
        "          - Consumo por dia de navegação: 30 m3\n",
        "          - Custo por m3: R$ 2.500 (estimativa)\n",
        "    '''\n",
        "    custo_diesel=30*2500\n",
        "\n",
        "    # Velocidade de navegação:\n",
        "    velocidade=10 # velocidade = 10 nós (10 milhas nauticas por hora)\n",
        "\n",
        "    # Custo padrão aplicado em caso de inviabilidade\n",
        "    custo_padrao=90000000 # Em reais\n",
        "\n",
        "    # Verificar colunas necessárias\n",
        "    colunas_projetos = ['UEP', 'Contrato log', 'Tipo operação', 'Tipo de linha']\n",
        "    colunas_dist = ['UEP', 'Dist_B1_mn', 'Dist_B2_mn',\n",
        "                   'Dist_F1_mn', 'Dist_F2_mn', 'Dist_F3_mn']\n",
        "    colunas_contr = ['Contrato log', 'Fornec']\n",
        "\n",
        "    # Verificar colunas faltantes\n",
        "    for df, cols, name in zip([df_projetos, df_distancias, df_contratos],\n",
        "                             [colunas_projetos, colunas_dist, colunas_contr],\n",
        "                             ['df_projetos', 'df_distancias', 'df_contratos']):\n",
        "        faltantes = [col for col in cols if col not in df.columns]\n",
        "        if faltantes:\n",
        "            raise ValueError(f\"Colunas faltantes em {name}: {faltantes}. Colunas disponíveis: {df.columns.tolist()}\")\n",
        "\n",
        "    # Criar cópia do dataframe\n",
        "    df = df_projetos.copy()\n",
        "\n",
        "    # Merge com distâncias e contratos\n",
        "    df = pd.merge(df, df_distancias[colunas_dist], on='UEP', how='left')\n",
        "    df = pd.merge(df, df_contratos[colunas_contr], on='Contrato log', how='left')\n",
        "\n",
        "    # Função auxiliar para cálculo padrão\n",
        "    def calcular_custo(distancia):\n",
        "        return int(((distancia / velocidade) / 24) * custo_diesel) # Valores sem casas decimais\n",
        "\n",
        "    # Calcular custos BACU e BAVIT\n",
        "    df['Custo_Naveg_B1'] = df['Dist_B1_mn'].apply(calcular_custo)\n",
        "    df['Custo_Naveg_B2'] = df['Dist_B2_mn'].apply(calcular_custo)\n",
        "\n",
        "    # Calcular custo por fornecedor\n",
        "    def custo_fornecedor(row):\n",
        "        # Verificar condições para usar custo padrão\n",
        "        if (row['Tipo operação'] == 'descarregam' or\n",
        "            row['Tipo de linha'] == 'T2' or\n",
        "            row['Contrato log'] == 'x'):\n",
        "            return int(custo_padrao) # Valores sem casas decimais\n",
        "\n",
        "        # Caso contrário, verificar fornecedor\n",
        "        if row['Fornec'] == 'F1':\n",
        "            return calcular_custo(row['Dist_F1_mn'])\n",
        "        elif row['Fornec'] == 'F2':\n",
        "            return calcular_custo(row['Dist_F2_mn'])\n",
        "        elif row['Fornec'] == 'F3':\n",
        "            return calcular_custo(row['Dist_F3_mn'])\n",
        "        else:\n",
        "            return custo_padrao # Valores sem casas decimais\n",
        "\n",
        "    df['Custo_Naveg_Fornec'] = df.apply(custo_fornecedor, axis=1)\n",
        "\n",
        "    # Remover colunas temporárias\n",
        "    colunas_remover = colunas_dist[1:] + ['Fornec']  # Todas colunas de distância + 'Fornec'\n",
        "    df = df.drop([col for col in colunas_remover if col in df.columns], axis=1)\n",
        "\n",
        "    return df"
      ],
      "metadata": {
        "id": "PKuyYxnChAb8"
      },
      "execution_count": 149,
      "outputs": []
    },
    {
      "cell_type": "code",
      "source": [
        "# Aplicação da função para cálculo dos custos de navegação a partir das bases e fornecedores:\n",
        "df_projetos_com_custos = calcular_custo_naveg(\n",
        "    df_projetos=df_projetos_suprim,\n",
        "    df_distancias=df_distancias,\n",
        "    df_contratos=df_contratos\n",
        ")\n",
        "print(df_projetos_com_custos.head(20))"
      ],
      "metadata": {
        "colab": {
          "base_uri": "https://localhost:8080/"
        },
        "id": "IluCjFkHhAU5",
        "outputId": "60da588c-99dc-4e7c-ab01-26d258224fd2"
      },
      "execution_count": 150,
      "outputs": [
        {
          "output_type": "stream",
          "name": "stdout",
          "text": [
            "    Projeto Tipo operação Tipo de linha Categoria linha   UEP Data prevista  \\\n",
            "0    Poço 1      carregam          T1_P              T1   P-1    2026-01-01   \n",
            "1    Poço 1      carregam            T2              T2   P-1    2025-11-11   \n",
            "2    Poço 2      carregam         T1_I1              T1   P-2    2025-12-30   \n",
            "3    Poço 3      carregam          T1_G              T1   P-3    2025-07-27   \n",
            "4    Poço 3      carregam          T1_P              T1   P-3    2026-02-16   \n",
            "5    Poço 4   descarregam            T2              T2   P-4    2025-08-17   \n",
            "6    Poço 5      carregam         T1_I1              T1   P-5    2025-07-20   \n",
            "7    Poço 5      carregam            T2              T2   P-5    2025-08-08   \n",
            "8    Poço 6      carregam          T1_P              T1   P-6    2026-05-07   \n",
            "9    Poço 6      carregam            T2              T2   P-6    2026-03-19   \n",
            "10   Poço 7   descarregam         T1_I1              T1   P-2    2025-11-18   \n",
            "11   Poço 7   descarregam            T2              T2   P-2    2025-08-12   \n",
            "12   Poço 8      carregam          T1_P              T1   P-7    2026-01-09   \n",
            "13   Poço 9      carregam         T1_I2              T1   P-8    2026-01-25   \n",
            "14   Poço 9      carregam         T1_I1              T1   P-8    2026-06-25   \n",
            "15  Poço 10   descarregam          T1_P              T1   P-9    2026-05-14   \n",
            "16  Poço 10   descarregam            T2              T2   P-9    2026-05-05   \n",
            "17  Poço 11      carregam         T1_I2              T1  P-10    2025-10-10   \n",
            "18  Poço 11      carregam            T2              T2  P-10    2025-10-23   \n",
            "19  Poço 12   descarregam         T1_I1              T1  P-11    2026-01-07   \n",
            "\n",
            "    Número de tramos Contrato bens Contrato log  Tempo carreg dias  \\\n",
            "0                  8            C1           L1               7.04   \n",
            "1                  2            C4           L4               3.54   \n",
            "2                  3            C2            x               2.89   \n",
            "3                  7            C5           L5               6.21   \n",
            "4                  1            C8           L8               1.23   \n",
            "5                  1             x            x               1.35   \n",
            "6                  2            C2            x               2.06   \n",
            "7                  2            C6           L6               3.54   \n",
            "8                  4            C1           L1               3.72   \n",
            "9                  2            C6           L6               3.54   \n",
            "10                 5             x            x               3.70   \n",
            "11                 2             x            x               2.30   \n",
            "12                 3            C1           L1               2.89   \n",
            "13                 8            C3           L3               7.04   \n",
            "14                 1            C9           L9               1.23   \n",
            "15                 6             x            x               4.36   \n",
            "16                 1             x            x               1.35   \n",
            "17                 8            C7           L7               7.04   \n",
            "18                 1           C10          L10               1.97   \n",
            "19                 6             x            x               4.36   \n",
            "\n",
            "    Custo_fornec_B1  Custo_fornec_B2  Custo_carreg_fornec  Custo_Naveg_B1  \\\n",
            "0            400000           600000               666744           30625   \n",
            "1            674000           600000             90000000           30625   \n",
            "2                 0                0             90000000           75000   \n",
            "3            126000           238000               525421           78750   \n",
            "4             31000            39000               172843           78750   \n",
            "5                 0                0             90000000           18750   \n",
            "6                 0                0             90000000           31875   \n",
            "7            250000           242000             90000000           31875   \n",
            "8            200000           300000               352313           72500   \n",
            "9            250000           242000             90000000           72500   \n",
            "10                0                0             90000000           75000   \n",
            "11                0                0             90000000           75000   \n",
            "12           150000           225000               273706           29062   \n",
            "13           296000           384000               627489           35000   \n",
            "14            20500            32000               145360           35000   \n",
            "15                0                0             90000000           20312   \n",
            "16                0                0             90000000           20312   \n",
            "17           136000           288000               505070           77187   \n",
            "18           237500           247200             90000000           77187   \n",
            "19                0                0             90000000           70312   \n",
            "\n",
            "    Custo_Naveg_B2  Custo_Naveg_Fornec  \n",
            "0            40625               96250  \n",
            "1            40625            90000000  \n",
            "2           106250            90000000  \n",
            "3           106875               79062  \n",
            "4           106875               50624  \n",
            "5            34375            90000000  \n",
            "6            42500            90000000  \n",
            "7            42500            90000000  \n",
            "8           103437               45000  \n",
            "9           103437            90000000  \n",
            "10          106250            90000000  \n",
            "11          106250            90000000  \n",
            "12           38125               99375  \n",
            "13           44687               74687  \n",
            "14           44687               35312  \n",
            "15           38125            90000000  \n",
            "16           38125            90000000  \n",
            "17          109062               77500  \n",
            "18          109062            90000000  \n",
            "19          100625            90000000  \n"
          ]
        }
      ]
    },
    {
      "cell_type": "code",
      "source": [
        "# Criação de novo dataframe com colunas referentes aos custos de suprimento:\n",
        "colunas_suprim = ['Custo_fornec_B1', 'Custo_fornec_B2', 'Custo_carreg_fornec']\n",
        "df_suprim = df_projetos_com_custos[colunas_suprim].copy()\n",
        "print(df_suprim.head(20))"
      ],
      "metadata": {
        "colab": {
          "base_uri": "https://localhost:8080/"
        },
        "id": "O_ZhTMAejf6B",
        "outputId": "901f3b1d-1b8e-4eb2-ef63-e3fd1c508891"
      },
      "execution_count": 151,
      "outputs": [
        {
          "output_type": "stream",
          "name": "stdout",
          "text": [
            "    Custo_fornec_B1  Custo_fornec_B2  Custo_carreg_fornec\n",
            "0            400000           600000               666744\n",
            "1            674000           600000             90000000\n",
            "2                 0                0             90000000\n",
            "3            126000           238000               525421\n",
            "4             31000            39000               172843\n",
            "5                 0                0             90000000\n",
            "6                 0                0             90000000\n",
            "7            250000           242000             90000000\n",
            "8            200000           300000               352313\n",
            "9            250000           242000             90000000\n",
            "10                0                0             90000000\n",
            "11                0                0             90000000\n",
            "12           150000           225000               273706\n",
            "13           296000           384000               627489\n",
            "14            20500            32000               145360\n",
            "15                0                0             90000000\n",
            "16                0                0             90000000\n",
            "17           136000           288000               505070\n",
            "18           237500           247200             90000000\n",
            "19                0                0             90000000\n"
          ]
        }
      ]
    },
    {
      "cell_type": "code",
      "source": [
        "# Criação de novo dataframe com colunas referentes aos custos de distribuição:\n",
        "colunas_distrib = ['Custo_Naveg_B1', 'Custo_Naveg_B2', 'Custo_Naveg_Fornec']\n",
        "df_distrib = df_projetos_com_custos[colunas_distrib].copy()\n",
        "print(df_distrib.head(20))"
      ],
      "metadata": {
        "colab": {
          "base_uri": "https://localhost:8080/"
        },
        "id": "HNq7oI_nOYYx",
        "outputId": "bc25e112-b61c-49f8-fefa-f8065c378444"
      },
      "execution_count": 152,
      "outputs": [
        {
          "output_type": "stream",
          "name": "stdout",
          "text": [
            "    Custo_Naveg_B1  Custo_Naveg_B2  Custo_Naveg_Fornec\n",
            "0            30625           40625               96250\n",
            "1            30625           40625            90000000\n",
            "2            75000          106250            90000000\n",
            "3            78750          106875               79062\n",
            "4            78750          106875               50624\n",
            "5            18750           34375            90000000\n",
            "6            31875           42500            90000000\n",
            "7            31875           42500            90000000\n",
            "8            72500          103437               45000\n",
            "9            72500          103437            90000000\n",
            "10           75000          106250            90000000\n",
            "11           75000          106250            90000000\n",
            "12           29062           38125               99375\n",
            "13           35000           44687               74687\n",
            "14           35000           44687               35312\n",
            "15           20312           38125            90000000\n",
            "16           20312           38125            90000000\n",
            "17           77187          109062               77500\n",
            "18           77187          109062            90000000\n",
            "19           70312          100625            90000000\n"
          ]
        }
      ]
    },
    {
      "cell_type": "code",
      "source": [
        "# Função objetivo: Cálculo do custo total obtido a partir da cromossomo individual\n",
        "\n",
        "def calcular_custo_total(individual):\n",
        "    \"\"\"\n",
        "    Ajusta o tamanho do cromossomo e calcula o custo total usando matrizes de custo pré-carregadas de arquivos Excel.\n",
        "\n",
        "    Entrada:\n",
        "    individual: lista/array com valores inteiros entre 1 e 3\n",
        "    \"\"\"\n",
        "    # Ajuste do cromossomo binário (redimensiona o array):\n",
        "      # Define que o tamanho do cromossomo deve ser igual ao número de linhas da matriz com informações dos projetos\n",
        "    linhas = df_projetos_com_custos.shape[0] # Ajustar nome da matriz projetos pelo nome da matriz com info projetos\n",
        "\n",
        "    individual = np.resize(individual, linhas)\n",
        "\n",
        "    # Verificação de compatibilidade de tamanhos\n",
        "    x = len(individual)\n",
        "    if x != len(df_projetos_com_custos):\n",
        "        raise ValueError(\n",
        "            f\"Dimensões incompatíveis: Vetor ({x} posições) × \"\n",
        "            f\"Matriz1 ({len(df_projetos_com_custos)} linhas)\"\n",
        "        )\n",
        "\n",
        "    # Cálculo do custo total\n",
        "    custo_total = 0\n",
        "    for i in range(len(individual)):\n",
        "        if individual[i] == 1:\n",
        "            custo_total += df_suprim.iloc[i, 0] + df_distrib.iloc[i, 0]  # considera valor da 1ª coluna\n",
        "        elif individual[i] == 2:\n",
        "            custo_total += df_suprim.iloc[i, 1] + df_distrib.iloc[i, 1]  # considera valor da 2ª coluna\n",
        "        elif individual[i] == 3:\n",
        "            custo_total += df_suprim.iloc[i, 2] + df_distrib.iloc[i, 2]  # considera valor da 3ª coluna\n",
        "    return custo_total, #configuração como tupla, para ficar simular ao modelo (Telecom Parte B)\n"
      ],
      "metadata": {
        "id": "UJcz_bBMLsKo"
      },
      "execution_count": 153,
      "outputs": []
    },
    {
      "cell_type": "code",
      "source": [
        "# Avaliação da F.O com cromossomo dado por uma lista com valores iguais a 1, 2 ou 3\n",
        "# Obs: Deve possuir o mesmo tamanho do dataframe \"df_projetos_com_custos\"\n",
        "\n",
        "individual = [random.randint(1, 3) for _ in range(len(df_projetos_com_custos))]\n",
        "print(individual)\n"
      ],
      "metadata": {
        "colab": {
          "base_uri": "https://localhost:8080/"
        },
        "id": "LrCaEsriSZHG",
        "outputId": "c138a0fa-0b72-4240-9530-1fd1137194a0"
      },
      "execution_count": 154,
      "outputs": [
        {
          "output_type": "stream",
          "name": "stdout",
          "text": [
            "[2, 1, 2, 3, 1, 1, 1, 3, 1, 3, 3, 3, 2, 2, 1, 2, 2, 1, 1, 2, 2, 1, 3, 2, 3, 2, 2, 3, 1, 1, 1, 2, 2, 2, 1]\n"
          ]
        }
      ]
    },
    {
      "cell_type": "code",
      "source": [
        "#Teste da função objetivo com o cromossomo gerado no passo anterior:\n",
        "valor = calcular_custo_total(individual)[0]\n",
        "# print(valor)\n",
        "print(f\"R$ {valor:,.2f}\".replace(\",\", \"X\").replace(\".\", \",\").replace(\"X\", \".\"))"
      ],
      "metadata": {
        "colab": {
          "base_uri": "https://localhost:8080/"
        },
        "id": "98pboxzoUQJh",
        "outputId": "d95693f4-e82d-4bbc-ae02-9418b8cf46e8"
      },
      "execution_count": 155,
      "outputs": [
        {
          "output_type": "stream",
          "name": "stdout",
          "text": [
            "R$ 727.917.174,00\n"
          ]
        }
      ]
    },
    {
      "cell_type": "code",
      "source": [
        "# Função para definição da matriz de duração e períodos de referência a partir da matriz com informações de projeto:\n",
        "\n",
        "def adicionar_ano_mes(df, coluna_data='data'):\n",
        "    \"\"\"\n",
        "    Adiciona colunas de ano e mês a partir da coluna de data.\n",
        "\n",
        "    \"\"\"\n",
        "    # Cria cópia para evitar modificações no DataFrame original\n",
        "    df = df.copy()\n",
        "\n",
        "    # Converte para datetime se necessário\n",
        "    if not pd.api.types.is_datetime64_any_dtype(df[coluna_data]):\n",
        "        df[coluna_data] = pd.to_datetime(df[coluna_data])\n",
        "\n",
        "    # Extrai ano e mês\n",
        "    df['ano'] = df[coluna_data].dt.year\n",
        "    df['mes'] = df[coluna_data].dt.month\n",
        "\n",
        "    return df"
      ],
      "metadata": {
        "id": "35nP13J4xgST"
      },
      "execution_count": 156,
      "outputs": []
    },
    {
      "cell_type": "code",
      "source": [
        "df_mes_ano = adicionar_ano_mes(df_projetos_com_custos, coluna_data='Data prevista')\n",
        "print(df_mes_ano.head(20))"
      ],
      "metadata": {
        "colab": {
          "base_uri": "https://localhost:8080/"
        },
        "id": "oRUEQIKCxgOr",
        "outputId": "86904901-79a9-4315-d7d5-5d195f5ce860"
      },
      "execution_count": 157,
      "outputs": [
        {
          "output_type": "stream",
          "name": "stdout",
          "text": [
            "    Projeto Tipo operação Tipo de linha Categoria linha   UEP Data prevista  \\\n",
            "0    Poço 1      carregam          T1_P              T1   P-1    2026-01-01   \n",
            "1    Poço 1      carregam            T2              T2   P-1    2025-11-11   \n",
            "2    Poço 2      carregam         T1_I1              T1   P-2    2025-12-30   \n",
            "3    Poço 3      carregam          T1_G              T1   P-3    2025-07-27   \n",
            "4    Poço 3      carregam          T1_P              T1   P-3    2026-02-16   \n",
            "5    Poço 4   descarregam            T2              T2   P-4    2025-08-17   \n",
            "6    Poço 5      carregam         T1_I1              T1   P-5    2025-07-20   \n",
            "7    Poço 5      carregam            T2              T2   P-5    2025-08-08   \n",
            "8    Poço 6      carregam          T1_P              T1   P-6    2026-05-07   \n",
            "9    Poço 6      carregam            T2              T2   P-6    2026-03-19   \n",
            "10   Poço 7   descarregam         T1_I1              T1   P-2    2025-11-18   \n",
            "11   Poço 7   descarregam            T2              T2   P-2    2025-08-12   \n",
            "12   Poço 8      carregam          T1_P              T1   P-7    2026-01-09   \n",
            "13   Poço 9      carregam         T1_I2              T1   P-8    2026-01-25   \n",
            "14   Poço 9      carregam         T1_I1              T1   P-8    2026-06-25   \n",
            "15  Poço 10   descarregam          T1_P              T1   P-9    2026-05-14   \n",
            "16  Poço 10   descarregam            T2              T2   P-9    2026-05-05   \n",
            "17  Poço 11      carregam         T1_I2              T1  P-10    2025-10-10   \n",
            "18  Poço 11      carregam            T2              T2  P-10    2025-10-23   \n",
            "19  Poço 12   descarregam         T1_I1              T1  P-11    2026-01-07   \n",
            "\n",
            "    Número de tramos Contrato bens Contrato log  Tempo carreg dias  \\\n",
            "0                  8            C1           L1               7.04   \n",
            "1                  2            C4           L4               3.54   \n",
            "2                  3            C2            x               2.89   \n",
            "3                  7            C5           L5               6.21   \n",
            "4                  1            C8           L8               1.23   \n",
            "5                  1             x            x               1.35   \n",
            "6                  2            C2            x               2.06   \n",
            "7                  2            C6           L6               3.54   \n",
            "8                  4            C1           L1               3.72   \n",
            "9                  2            C6           L6               3.54   \n",
            "10                 5             x            x               3.70   \n",
            "11                 2             x            x               2.30   \n",
            "12                 3            C1           L1               2.89   \n",
            "13                 8            C3           L3               7.04   \n",
            "14                 1            C9           L9               1.23   \n",
            "15                 6             x            x               4.36   \n",
            "16                 1             x            x               1.35   \n",
            "17                 8            C7           L7               7.04   \n",
            "18                 1           C10          L10               1.97   \n",
            "19                 6             x            x               4.36   \n",
            "\n",
            "    Custo_fornec_B1  Custo_fornec_B2  Custo_carreg_fornec  Custo_Naveg_B1  \\\n",
            "0            400000           600000               666744           30625   \n",
            "1            674000           600000             90000000           30625   \n",
            "2                 0                0             90000000           75000   \n",
            "3            126000           238000               525421           78750   \n",
            "4             31000            39000               172843           78750   \n",
            "5                 0                0             90000000           18750   \n",
            "6                 0                0             90000000           31875   \n",
            "7            250000           242000             90000000           31875   \n",
            "8            200000           300000               352313           72500   \n",
            "9            250000           242000             90000000           72500   \n",
            "10                0                0             90000000           75000   \n",
            "11                0                0             90000000           75000   \n",
            "12           150000           225000               273706           29062   \n",
            "13           296000           384000               627489           35000   \n",
            "14            20500            32000               145360           35000   \n",
            "15                0                0             90000000           20312   \n",
            "16                0                0             90000000           20312   \n",
            "17           136000           288000               505070           77187   \n",
            "18           237500           247200             90000000           77187   \n",
            "19                0                0             90000000           70312   \n",
            "\n",
            "    Custo_Naveg_B2  Custo_Naveg_Fornec   ano  mes  \n",
            "0            40625               96250  2026    1  \n",
            "1            40625            90000000  2025   11  \n",
            "2           106250            90000000  2025   12  \n",
            "3           106875               79062  2025    7  \n",
            "4           106875               50624  2026    2  \n",
            "5            34375            90000000  2025    8  \n",
            "6            42500            90000000  2025    7  \n",
            "7            42500            90000000  2025    8  \n",
            "8           103437               45000  2026    5  \n",
            "9           103437            90000000  2026    3  \n",
            "10          106250            90000000  2025   11  \n",
            "11          106250            90000000  2025    8  \n",
            "12           38125               99375  2026    1  \n",
            "13           44687               74687  2026    1  \n",
            "14           44687               35312  2026    6  \n",
            "15           38125            90000000  2026    5  \n",
            "16           38125            90000000  2026    5  \n",
            "17          109062               77500  2025   10  \n",
            "18          109062            90000000  2025   10  \n",
            "19          100625            90000000  2026    1  \n"
          ]
        }
      ]
    },
    {
      "cell_type": "code",
      "source": [
        "# Função restritiva - considera como restrição o tempo de carregamento disponível nos dois complexos portuários e nos fornecedores\n",
        "def verificar_capacidades_com_sublocais(individual):\n",
        "    \"\"\"\n",
        "    Verifica se todas as capacidades são atendidas, considerando que:\n",
        "    - Localidades 1 e 2: corresponde as bases contratadas (modelo de disponibilidade)\n",
        "    - Localidade 3 = divide-se em 6 sublocais, conforme coluna 'Fornec' em df_contratos\n",
        "    - Apenas 3 sublocais possuem viabilidade de carregamento: F1, F2 e F3.\n",
        "\n",
        "    Modelo retorna:\n",
        "        True se todas as restrições de capacidade forem respeitadas, False caso contrário.\n",
        "    \"\"\"\n",
        "\n",
        "    # 1. Definir os DataFrames internamente\n",
        "    df_contratos_novo = df_contratos.copy()\n",
        "    df_mes_ano_novo = df_mes_ano.copy()\n",
        "\n",
        "    # 2. Juntar informações de sublocais\n",
        "    df_sublocais = df_contratos_novo[['Contrato bens', 'Fornec']].drop_duplicates()\n",
        "    df_full = pd.merge(df_mes_ano_novo, df_sublocais, on='Contrato bens', how='left')\n",
        "\n",
        "    # 3. Mapear localidades (convertendo 3 para sublocais 3_F1, 3_F2, 3_F3)\n",
        "    df_full['localidade_final'] = df_full.apply(\n",
        "        lambda x: f\"3_{x['Fornec']}\" if x.name < len(individual) and individual[x.name] == 3\n",
        "        else individual[x.name] if x.name < len(individual) else pd.NA,\n",
        "        axis=1\n",
        "    )\n",
        "\n",
        "    # 4. Definir capacidades\n",
        "    CAPACIDADES = {\n",
        "        1: 30,    # Localidade 1\n",
        "        2: 30,    # Localidade 2\n",
        "        \"3_F1\": 15,  # Sublocal Fornec 1\n",
        "        \"3_F2\": 15,  # Sublocal Fornec 2\n",
        "        \"3_F3\": 15,  # Sublocal Fornec 3\n",
        "        \"3_F6\": 0,  # Sublocal Fornec 6 - não carrega\n",
        "        \"3_F5\": 0,  # Sublocal Fornec 5 - não carrega\n",
        "        \"3_F4\": 0  # Sublocal Fornec 4 - não carrega\n",
        "    }\n",
        "\n",
        "    # 5. Agrupar e somar durações\n",
        "    df_consolidado = df_full.groupby(\n",
        "        ['localidade_final', 'ano', 'mes']\n",
        "    )['Tempo carreg dias'].sum().reset_index()\n",
        "\n",
        "    # 6. Verificar capacidade\n",
        "    df_consolidado['capacidade'] = df_consolidado['localidade_final'].map(CAPACIDADES)\n",
        "    df_consolidado['dentro_capacidade'] = (\n",
        "        df_consolidado['Tempo carreg dias'] <= df_consolidado['capacidade']\n",
        "    )\n",
        "\n",
        "    # 7. Retornar True apenas se TODOS estiverem dentro da capacidade\n",
        "    return all(df_consolidado['dentro_capacidade'])#, df_consolidado"
      ],
      "metadata": {
        "id": "90qsBWkpP9BF"
      },
      "execution_count": 158,
      "outputs": []
    },
    {
      "cell_type": "code",
      "source": [
        "# Teste do cromossomo gerado aleatoriamente:\n",
        "teste_3 = verificar_capacidades_com_sublocais(individual)\n",
        "print(teste_3)"
      ],
      "metadata": {
        "colab": {
          "base_uri": "https://localhost:8080/"
        },
        "id": "2nLNOzkbP86t",
        "outputId": "592074e3-c170-4fa6-edb0-a3e7feb97c07"
      },
      "execution_count": 160,
      "outputs": [
        {
          "output_type": "stream",
          "name": "stdout",
          "text": [
            "False\n"
          ]
        }
      ]
    },
    {
      "cell_type": "markdown",
      "source": [
        "Função para criação de indivíduos:"
      ],
      "metadata": {
        "id": "fF2G9r9Y38T9"
      }
    },
    {
      "cell_type": "code",
      "source": [
        "# Função para forçar viabilidade das operações de descarregam e carregam de linhas T2, designando as bases 1 ou 2\n",
        "'''\n",
        "Objetiva representar a restrição operacional de que apenas linhas carregamento de linhas T1 podem ser realizadas em forneedores\n",
        "Todas as operações de descarregamento (tanto de T1 quanto de T2) e carregamento de T2 devem ser realizadas em B1 ou B2\n",
        "'''\n",
        "# Equivalente a aplicação de restrições de viabilidade\n",
        "def GeradorDeIndividuos(icls, attr_bool_function, df = df_projetos_com_custos):\n",
        "    individual = []\n",
        "    for _, row in df.iterrows():\n",
        "        op_type = row[\"Tipo operação\"]\n",
        "        linha_type = row[\"Tipo de linha\"]\n",
        "\n",
        "        # Verifica se é uma operação com restrição (local 3 inviável)\n",
        "        if (op_type == \"descarregam\") or (op_type == \"carregam\" and linha_type == \"T2\"):\n",
        "            gene = np.random.choice([1, 2])  # Só pode ser 1 ou 2\n",
        "        else:\n",
        "            gene = np.random.choice([1, 2, 3])  # Pode ser 1, 2 ou 3\n",
        "        individual.append(gene)\n",
        "    return icls(individual)"
      ],
      "metadata": {
        "id": "qlufN7kP5126"
      },
      "execution_count": 163,
      "outputs": []
    },
    {
      "cell_type": "markdown",
      "source": [
        "Declaração dos pacotes referentes a biblioteca do GA:"
      ],
      "metadata": {
        "id": "5zUPEfcbpb-o"
      }
    },
    {
      "cell_type": "code",
      "source": [
        "creator.create(\"FitnessMin\", base.Fitness, weights=(-1.0,)) # Aplicação do algoritmo genético - (-1 para minimizar)\n",
        "creator.create(\"Individual\", list, fitness=creator.FitnessMin)"
      ],
      "metadata": {
        "id": "-lUVJO4eebAG",
        "colab": {
          "base_uri": "https://localhost:8080/"
        },
        "outputId": "2f06766b-ca4c-46c7-b10a-90cd116aa6c1"
      },
      "execution_count": 164,
      "outputs": [
        {
          "output_type": "stream",
          "name": "stderr",
          "text": [
            "/usr/local/lib/python3.11/dist-packages/deap/creator.py:185: RuntimeWarning: A class named 'FitnessMin' has already been created and it will be overwritten. Consider deleting previous creation of that class or rename it.\n",
            "  warnings.warn(\"A class named '{0}' has already been created and it \"\n",
            "/usr/local/lib/python3.11/dist-packages/deap/creator.py:185: RuntimeWarning: A class named 'Individual' has already been created and it will be overwritten. Consider deleting previous creation of that class or rename it.\n",
            "  warnings.warn(\"A class named '{0}' has already been created and it \"\n"
          ]
        }
      ]
    },
    {
      "cell_type": "code",
      "source": [
        "# Criando o toolbox\n",
        "\n",
        "toolbox = base.Toolbox()\n",
        "\n",
        "# Criação do toolbox e registro de funções iniciais\n",
        "toolbox.register(\"attr_bool\", random.randint, 1, 3)\n",
        "toolbox.register(\"individual\", GeradorDeIndividuos, creator.Individual, toolbox.attr_bool)"
      ],
      "metadata": {
        "id": "7zaPpVJjaS3O"
      },
      "execution_count": 165,
      "outputs": []
    },
    {
      "cell_type": "markdown",
      "source": [
        "Criação de função de cruzamento customizada:"
      ],
      "metadata": {
        "id": "5o0XB2uG1h1o"
      }
    },
    {
      "cell_type": "code",
      "source": [
        "# Função de crossover com verificação de restrições\n",
        "def CrossoverFunction(ind1, ind2, icls, attr_bool_function):\n",
        "    # Crossover uniforme (pode substituir por outro método)\n",
        "    new_ind1, new_ind2 = tools.cxTwoPoint(ind1, ind2)\n",
        "    for i in range(len(ind1)):\n",
        "        if random.random() < 0.5:\n",
        "            new_ind1[i], new_ind2[i] = ind2[i], ind1[i]\n",
        "\n",
        "    # Verifica restrições nos filhos\n",
        "    if not verificar_capacidades_com_sublocais(ind1):\n",
        "        new_ind1 = GeradorDeIndividuos(icls, attr_bool_function)\n",
        "    if not verificar_capacidades_com_sublocais(ind2):\n",
        "        new_ind2 = GeradorDeIndividuos(icls, attr_bool_function)\n",
        "\n",
        "    return new_ind1, new_ind2"
      ],
      "metadata": {
        "id": "QYOeojN9lJbF"
      },
      "execution_count": 166,
      "outputs": []
    },
    {
      "cell_type": "markdown",
      "source": [
        "Criação de função de mutação customizada:"
      ],
      "metadata": {
        "id": "HTGeTehN3v-0"
      }
    },
    {
      "cell_type": "code",
      "source": [
        "# Função de mutação com verificação de restrições\n",
        "def mutacao(individuo, indpb, icls=creator.Individual, attr_bool_function=toolbox.attr_bool):\n",
        "    # Cria uma cópia do indivíduo para mutação\n",
        "    mutante = toolbox.clone(individuo)\n",
        "\n",
        "    # Aplica a mutação padrão\n",
        "    for i in range(len(mutante)):\n",
        "        if random.random() < indpb:\n",
        "            mutante[i] = np.random.choice([1, 2, 3])\n",
        "\n",
        "    # Verifica as restrições\n",
        "    if not verificar_capacidades_com_sublocais(mutante):\n",
        "        # Se não atender, gera um novo indivíduo válido\n",
        "        mutante = GeradorDeIndividuos(icls, attr_bool_function)\n",
        "\n",
        "    return mutante,"
      ],
      "metadata": {
        "id": "K84JU6wb2yIf"
      },
      "execution_count": 167,
      "outputs": []
    },
    {
      "cell_type": "code",
      "source": [
        "# Registro das demais funções no toolbox (faz referencia as funções customizadas)\n",
        "#toolbox.register(\"attr_bool\", random.randint, 1, 3)\n",
        "#toolbox.register(\"individual\", GeradorDeIndividuos, creator.Individual, toolbox.attr_bool)\n",
        "toolbox.register(\"population\", tools.initRepeat, list, toolbox.individual)\n",
        "toolbox.register(\"mate\", CrossoverFunction, icls=creator.Individual, attr_bool_function=toolbox.attr_bool)\n",
        "toolbox.register(\"mutate\", mutacao, indpb=0.1)\n",
        "toolbox.register(\"select\", tools.selTournament, tournsize=3)\n",
        "toolbox.register(\"evaluate\", calcular_custo_total)"
      ],
      "metadata": {
        "id": "dmQj07xgmaDr"
      },
      "execution_count": 169,
      "outputs": []
    },
    {
      "cell_type": "code",
      "source": [
        "# Configuração do algoritmo\n",
        "pop = toolbox.population(n=50)\n",
        "hof = tools.HallOfFame(1)\n",
        "stats = tools.Statistics(lambda ind: ind.fitness.values)\n",
        "stats.register(\"avg\", np.mean)\n",
        "stats.register(\"min\", np.min)\n",
        "stats.register(\"max\", np.max)"
      ],
      "metadata": {
        "id": "FXjyRAUomf79"
      },
      "execution_count": 170,
      "outputs": []
    },
    {
      "cell_type": "code",
      "source": [
        "# Execução do algoritmo genético\n",
        "pop, log = algorithms.eaSimple(pop, toolbox, cxpb=0.7, mutpb=0.3, ngen=100,\n",
        "                              stats=stats, halloffame=hof, verbose=True)\n"
      ],
      "metadata": {
        "colab": {
          "base_uri": "https://localhost:8080/"
        },
        "id": "MYcpyEzVm6lR",
        "outputId": "94f7ec88-84d5-4bfd-aef0-e260d92d9d00"
      },
      "execution_count": 171,
      "outputs": [
        {
          "output_type": "stream",
          "name": "stdout",
          "text": [
            "gen\tnevals\tavg       \tmin        \tmax       \n",
            "0  \t50    \t1.2802e+08\t8.16637e+06\t3.6976e+08\n",
            "1  \t41    \t6.28681e+07\t7.94213e+06\t3.70004e+08\n",
            "2  \t43    \t4.09732e+07\t7.6454e+06 \t3.6942e+08 \n",
            "3  \t37    \t2.63151e+07\t7.59227e+06\t3.69731e+08\n",
            "4  \t33    \t2.25093e+07\t7.33532e+06\t1.89989e+08\n",
            "5  \t38    \t2.59111e+07\t7.18376e+06\t3.69568e+08\n",
            "6  \t42    \t2.95966e+07\t7.09464e+06\t3.68855e+08\n",
            "7  \t44    \t3.30958e+07\t7.09464e+06\t3.69435e+08\n",
            "8  \t42    \t1.85197e+07\t7.07171e+06\t3.68954e+08\n",
            "9  \t45    \t1.46459e+07\t7.07171e+06\t1.88541e+08\n",
            "10 \t34    \t3.27418e+07\t7.0634e+06 \t3.69543e+08\n",
            "11 \t47    \t1.46775e+07\t7.04452e+06\t1.89804e+08\n",
            "12 \t43    \t3.27011e+07\t7.04452e+06\t3.68856e+08\n",
            "13 \t41    \t2.53246e+07\t7.00388e+06\t3.68251e+08\n",
            "14 \t38    \t2.53515e+07\t6.99858e+06\t3.69667e+08\n",
            "15 \t37    \t2.18482e+07\t7.01202e+06\t3.68552e+08\n",
            "16 \t36    \t1.08773e+07\t6.98077e+06\t1.88279e+08\n",
            "17 \t32    \t4.70188e+07\t6.98077e+06\t3.69849e+08\n",
            "18 \t30    \t2.15909e+07\t6.98077e+06\t3.68775e+08\n",
            "19 \t40    \t2.16897e+07\t6.94952e+06\t3.68669e+08\n",
            "20 \t41    \t3.61019e+07\t6.94982e+06\t3.70228e+08\n",
            "21 \t35    \t1.80016e+07\t6.92357e+06\t1.89854e+08\n",
            "22 \t38    \t2.52549e+07\t6.92357e+06\t1.89319e+08\n",
            "23 \t41    \t2.9098e+07 \t6.91543e+06\t1.90035e+08\n",
            "24 \t38    \t1.42812e+07\t6.89762e+06\t1.88933e+08\n",
            "25 \t35    \t2.88466e+07\t6.89762e+06\t3.67968e+08\n",
            "26 \t39    \t2.88306e+07\t6.88856e+06\t3.69737e+08\n",
            "27 \t42    \t1.08958e+07\t6.87293e+06\t1.8992e+08 \n",
            "28 \t36    \t5.42609e+07\t6.87293e+06\t3.70278e+08\n",
            "29 \t38    \t2.14632e+07\t6.85731e+06\t1.89512e+08\n",
            "30 \t42    \t1.07455e+07\t6.85731e+06\t1.89157e+08\n",
            "31 \t39    \t2.15005e+07\t6.85731e+06\t1.89546e+08\n",
            "32 \t42    \t2.16659e+07\t6.85731e+06\t1.89267e+08\n",
            "33 \t43    \t1.80112e+07\t6.85731e+06\t1.89536e+08\n",
            "34 \t36    \t3.2431e+07 \t6.85731e+06\t3.69076e+08\n",
            "35 \t42    \t3.95781e+07\t6.84724e+06\t3.68499e+08\n",
            "36 \t43    \t3.24397e+07\t6.84724e+06\t1.89596e+08\n",
            "37 \t41    \t3.61043e+07\t6.85731e+06\t3.69197e+08\n",
            "38 \t44    \t2.16583e+07\t6.85731e+06\t3.69722e+08\n",
            "39 \t36    \t1.07403e+07\t6.85731e+06\t1.89427e+08\n",
            "40 \t44    \t2.88351e+07\t6.85731e+06\t3.67687e+08\n",
            "41 \t37    \t2.50982e+07\t6.85731e+06\t1.89621e+08\n",
            "42 \t40    \t1.79104e+07\t6.85731e+06\t3.6914e+08 \n",
            "43 \t44    \t2.15432e+07\t6.85731e+06\t3.6767e+08 \n",
            "44 \t39    \t3.24967e+07\t6.85731e+06\t3.68616e+08\n",
            "45 \t38    \t3.24419e+07\t6.85731e+06\t3.69437e+08\n",
            "46 \t43    \t1.06886e+07\t6.85731e+06\t1.88875e+08\n",
            "47 \t45    \t3.96484e+07\t6.85731e+06\t3.70457e+08\n",
            "48 \t43    \t1.79127e+07\t6.85731e+06\t1.8899e+08 \n",
            "49 \t42    \t1.78401e+07\t6.85731e+06\t1.8892e+08 \n",
            "50 \t43    \t2.52788e+07\t6.85731e+06\t1.89808e+08\n",
            "51 \t35    \t2.16108e+07\t6.85056e+06\t3.694e+08  \n",
            "52 \t39    \t2.51727e+07\t6.82606e+06\t3.69823e+08\n",
            "53 \t34    \t1.78422e+07\t6.82606e+06\t1.88876e+08\n",
            "54 \t34    \t2.87723e+07\t6.82606e+06\t3.69456e+08\n",
            "55 \t34    \t2.14289e+07\t6.82606e+06\t3.69046e+08\n",
            "56 \t37    \t2.87919e+07\t6.82606e+06\t3.69838e+08\n",
            "57 \t40    \t2.14676e+07\t6.82606e+06\t3.68985e+08\n",
            "58 \t41    \t2.14778e+07\t6.82606e+06\t3.69005e+08\n",
            "59 \t41    \t2.51886e+07\t6.82606e+06\t3.70107e+08\n",
            "60 \t36    \t2.13643e+07\t6.82606e+06\t3.68564e+08\n",
            "61 \t42    \t2.87591e+07\t6.82606e+06\t3.67125e+08\n",
            "62 \t46    \t2.50792e+07\t6.82606e+06\t3.68972e+08\n",
            "63 \t40    \t1.42293e+07\t6.82606e+06\t1.89764e+08\n",
            "64 \t34    \t1.42598e+07\t6.82606e+06\t1.89869e+08\n",
            "65 \t39    \t2.50504e+07\t6.82606e+06\t1.88768e+08\n",
            "66 \t41    \t3.60889e+07\t6.82606e+06\t3.69415e+08\n",
            "67 \t39    \t2.89036e+07\t6.82606e+06\t3.69217e+08\n",
            "68 \t42    \t1.79522e+07\t6.82606e+06\t1.90321e+08\n",
            "69 \t45    \t3.24978e+07\t6.82606e+06\t3.68562e+08\n",
            "70 \t43    \t3.97396e+07\t6.82606e+06\t3.68902e+08\n",
            "71 \t32    \t1.79763e+07\t6.82606e+06\t1.89938e+08\n",
            "72 \t37    \t1.05868e+07\t6.82606e+06\t1.86919e+08\n",
            "73 \t44    \t1.80262e+07\t6.82606e+06\t3.69406e+08\n",
            "74 \t44    \t4.69665e+07\t6.82606e+06\t3.6847e+08 \n",
            "75 \t41    \t3.26023e+07\t6.82606e+06\t3.70094e+08\n",
            "76 \t45    \t2.15158e+07\t6.82606e+06\t1.89013e+08\n",
            "77 \t38    \t2.15309e+07\t6.82606e+06\t3.70876e+08\n",
            "78 \t47    \t2.5177e+07 \t6.82606e+06\t1.90221e+08\n",
            "79 \t42    \t2.50816e+07\t6.82606e+06\t3.70004e+08\n",
            "80 \t43    \t3.9724e+07 \t6.82606e+06\t3.69692e+08\n",
            "81 \t36    \t2.88189e+07\t6.82606e+06\t3.69074e+08\n",
            "82 \t46    \t2.87472e+07\t6.82606e+06\t3.69175e+08\n",
            "83 \t40    \t3.60101e+07\t6.82606e+06\t3.70008e+08\n",
            "84 \t36    \t2.53905e+07\t6.82606e+06\t1.90183e+08\n",
            "85 \t37    \t1.79199e+07\t6.82606e+06\t1.89243e+08\n",
            "86 \t43    \t2.15922e+07\t6.82606e+06\t1.89875e+08\n",
            "87 \t35    \t1.78847e+07\t6.82606e+06\t1.89163e+08\n",
            "88 \t45    \t5.41934e+07\t6.82606e+06\t3.6973e+08 \n",
            "89 \t42    \t1.06083e+07\t6.82606e+06\t1.88417e+08\n",
            "90 \t42    \t3.6044e+07 \t6.82606e+06\t3.6932e+08 \n",
            "91 \t47    \t1.78805e+07\t6.82606e+06\t1.88869e+08\n",
            "92 \t31    \t1.7837e+07 \t6.82606e+06\t1.8957e+08 \n",
            "93 \t45    \t4.33241e+07\t6.82606e+06\t3.69231e+08\n",
            "94 \t44    \t4.32884e+07\t6.82606e+06\t3.69221e+08\n",
            "95 \t43    \t2.88766e+07\t6.82606e+06\t3.68891e+08\n",
            "96 \t40    \t2.51778e+07\t6.82606e+06\t1.89608e+08\n",
            "97 \t37    \t1.43686e+07\t6.82606e+06\t1.90005e+08\n",
            "98 \t40    \t1.81458e+07\t6.82606e+06\t1.89248e+08\n",
            "99 \t46    \t3.24137e+07\t6.82606e+06\t3.69852e+08\n",
            "100\t41    \t2.13498e+07\t6.82606e+06\t1.89545e+08\n"
          ]
        }
      ]
    },
    {
      "cell_type": "code",
      "source": [
        "# Melhor solução\n",
        "print(\"\\nMelhor Indivíduo:\")\n",
        "print([int(i) for i in hof[0]]) # identificação da melhor solução\n",
        "print()\n",
        "\n",
        "# Verificação da função de restrição\n",
        "print(\"Atende às restrições?\")\n",
        "print(verificar_capacidades_com_sublocais(hof[0]))\n",
        "print()\n",
        "\n",
        "# Melhor resultado da função objetivo\n",
        "melhor_custo = calcular_custo_total(hof[0])[0]\n",
        "print(\"Melhor Resultado da Função Objetivo:\")\n",
        "print(f\"R$ {melhor_custo:,.2f}\".replace(\",\", \"X\").replace(\".\", \",\").replace(\"X\", \".\"))"
      ],
      "metadata": {
        "colab": {
          "base_uri": "https://localhost:8080/"
        },
        "id": "yp8X3N1bm6h_",
        "outputId": "8b040fb9-5d3f-419f-ea14-98f770fcf0fc"
      },
      "execution_count": 174,
      "outputs": [
        {
          "output_type": "stream",
          "name": "stdout",
          "text": [
            "\n",
            "Melhor Indivíduo:\n",
            "[1, 2, 1, 1, 1, 1, 1, 1, 1, 1, 1, 1, 1, 1, 1, 1, 1, 1, 1, 1, 1, 1, 1, 1, 1, 1, 1, 1, 1, 1, 1, 2, 1, 1, 1]\n",
            "\n",
            "Atende às restrições?\n",
            "True\n",
            "\n",
            "Melhor Resultado da Função Objetivo:\n",
            "R$ 6.826.057,00\n"
          ]
        }
      ]
    },
    {
      "cell_type": "code",
      "source": [
        "# Verificação de convergência do modelo\n",
        "import matplotlib.pyplot as plt\n",
        "gen, minVal = log.select(\"gen\", \"min\")\n",
        "plt.plot(gen, minVal)\n",
        "plt.xlabel('Geração')\n",
        "plt.ylabel('Valor da função objetivo')\n",
        "plt.title('Convergência do Algoritmo Genético')\n",
        "plt.show()"
      ],
      "metadata": {
        "colab": {
          "base_uri": "https://localhost:8080/",
          "height": 472
        },
        "id": "TJFuQ02otyhE",
        "outputId": "0371943b-b2ee-41c7-c9b6-2c0c0f83aa8f"
      },
      "execution_count": 175,
      "outputs": [
        {
          "output_type": "display_data",
          "data": {
            "text/plain": [
              "<Figure size 640x480 with 1 Axes>"
            ],
            "image/png": "[encoded data removed]"
          },
          "metadata": {}
        }
      ]
    },
    {
      "cell_type": "code",
      "source": [
        "# Convergência do modelo x valores médios observados em cada geração:\n",
        "gen, minVal = log.select(\"gen\", \"min\")\n",
        "_, avgVal = log.select(\"gen\", \"avg\")  # Extrai os valores médios\n",
        "\n",
        "# Cria o gráfico\n",
        "plt.figure(figsize=(10, 6))\n",
        "plt.plot(gen, minVal, label='Melhor solução: proposta algoritmo')\n",
        "plt.plot(gen, avgVal, label='Média da população', linestyle='--')\n",
        "\n",
        "# Configurações do gráfico\n",
        "plt.xlabel('Geração')\n",
        "plt.ylabel('Valor da função objetivo')\n",
        "plt.title('Convergência do Algoritmo Genético')\n",
        "plt.legend()\n",
        "plt.grid(True)\n",
        "\n",
        "plt.show()"
      ],
      "metadata": {
        "colab": {
          "base_uri": "https://localhost:8080/",
          "height": 565
        },
        "id": "HkKkjraFq2Ca",
        "outputId": "4ab8b404-916e-44d9-d9aa-d44d6758ca68"
      },
      "execution_count": 176,
      "outputs": [
        {
          "output_type": "display_data",
          "data": {
            "text/plain": [
              "<Figure size 1000x600 with 1 Axes>"
            ],
            "image/png": "[encoded data removed]"
          },
          "metadata": {}
        }
      ]
    }
  ]
}